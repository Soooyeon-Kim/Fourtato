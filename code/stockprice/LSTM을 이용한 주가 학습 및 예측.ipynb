{
 "cells": [
  {
   "cell_type": "markdown",
   "id": "63665834",
   "metadata": {},
   "source": [
    "# 필요한 모듈 import"
   ]
  },
  {
   "cell_type": "code",
   "execution_count": 2,
   "id": "8d52f6bf",
   "metadata": {
    "ExecuteTime": {
     "end_time": "2021-11-07T14:11:15.927842Z",
     "start_time": "2021-11-07T14:11:14.374625Z"
    }
   },
   "outputs": [],
   "source": [
    "import pandas as pd\n",
    "import numpy as np\n",
    "import matplotlib.pyplot as plt\n",
    "import seaborn as sns\n",
    "import warnings\n",
    "import os\n",
    "\n",
    "%matplotlib inline\n",
    "warnings.filterwarnings('ignore')\n",
    "\n",
    "plt.rcParams['font.family'] = 'NanumGothic'"
   ]
  },
  {
   "cell_type": "markdown",
   "id": "b6ef7ac4",
   "metadata": {},
   "source": [
    "# 데이터 (FinanceDataReader)"
   ]
  },
  {
   "cell_type": "code",
   "execution_count": 3,
   "id": "fc3fc221",
   "metadata": {
    "ExecuteTime": {
     "end_time": "2021-11-07T14:11:16.167036Z",
     "start_time": "2021-11-07T14:11:15.930650Z"
    }
   },
   "outputs": [],
   "source": [
    "import FinanceDataReader as fdr"
   ]
  },
  {
   "cell_type": "code",
   "execution_count": 4,
   "id": "9738b27c",
   "metadata": {
    "ExecuteTime": {
     "end_time": "2021-11-07T14:11:16.357432Z",
     "start_time": "2021-11-07T14:11:16.169734Z"
    }
   },
   "outputs": [],
   "source": [
    "# 남양(003920) 전체 주가 데이터\n",
    "ny = fdr.DataReader('003920')"
   ]
  },
  {
   "cell_type": "code",
   "execution_count": 5,
   "id": "8379f139",
   "metadata": {
    "ExecuteTime": {
     "end_time": "2021-11-07T14:11:16.388715Z",
     "start_time": "2021-11-07T14:11:16.360445Z"
    }
   },
   "outputs": [
    {
     "data": {
      "text/html": [
       "<div>\n",
       "<style scoped>\n",
       "    .dataframe tbody tr th:only-of-type {\n",
       "        vertical-align: middle;\n",
       "    }\n",
       "\n",
       "    .dataframe tbody tr th {\n",
       "        vertical-align: top;\n",
       "    }\n",
       "\n",
       "    .dataframe thead th {\n",
       "        text-align: right;\n",
       "    }\n",
       "</style>\n",
       "<table border=\"1\" class=\"dataframe\">\n",
       "  <thead>\n",
       "    <tr style=\"text-align: right;\">\n",
       "      <th></th>\n",
       "      <th>Open</th>\n",
       "      <th>High</th>\n",
       "      <th>Low</th>\n",
       "      <th>Close</th>\n",
       "      <th>Volume</th>\n",
       "      <th>Change</th>\n",
       "    </tr>\n",
       "    <tr>\n",
       "      <th>Date</th>\n",
       "      <th></th>\n",
       "      <th></th>\n",
       "      <th></th>\n",
       "      <th></th>\n",
       "      <th></th>\n",
       "      <th></th>\n",
       "    </tr>\n",
       "  </thead>\n",
       "  <tbody>\n",
       "    <tr>\n",
       "      <th>2021-11-01</th>\n",
       "      <td>444000</td>\n",
       "      <td>449000</td>\n",
       "      <td>425500</td>\n",
       "      <td>436500</td>\n",
       "      <td>9925</td>\n",
       "      <td>-0.043812</td>\n",
       "    </tr>\n",
       "    <tr>\n",
       "      <th>2021-11-02</th>\n",
       "      <td>434500</td>\n",
       "      <td>470000</td>\n",
       "      <td>430500</td>\n",
       "      <td>455500</td>\n",
       "      <td>8740</td>\n",
       "      <td>0.043528</td>\n",
       "    </tr>\n",
       "    <tr>\n",
       "      <th>2021-11-03</th>\n",
       "      <td>454500</td>\n",
       "      <td>465500</td>\n",
       "      <td>454500</td>\n",
       "      <td>455000</td>\n",
       "      <td>3332</td>\n",
       "      <td>-0.001098</td>\n",
       "    </tr>\n",
       "    <tr>\n",
       "      <th>2021-11-04</th>\n",
       "      <td>451000</td>\n",
       "      <td>459000</td>\n",
       "      <td>436500</td>\n",
       "      <td>442500</td>\n",
       "      <td>4457</td>\n",
       "      <td>-0.027473</td>\n",
       "    </tr>\n",
       "    <tr>\n",
       "      <th>2021-11-05</th>\n",
       "      <td>445000</td>\n",
       "      <td>445000</td>\n",
       "      <td>434500</td>\n",
       "      <td>439500</td>\n",
       "      <td>2279</td>\n",
       "      <td>-0.006780</td>\n",
       "    </tr>\n",
       "  </tbody>\n",
       "</table>\n",
       "</div>"
      ],
      "text/plain": [
       "              Open    High     Low   Close  Volume    Change\n",
       "Date                                                        \n",
       "2021-11-01  444000  449000  425500  436500    9925 -0.043812\n",
       "2021-11-02  434500  470000  430500  455500    8740  0.043528\n",
       "2021-11-03  454500  465500  454500  455000    3332 -0.001098\n",
       "2021-11-04  451000  459000  436500  442500    4457 -0.027473\n",
       "2021-11-05  445000  445000  434500  439500    2279 -0.006780"
      ]
     },
     "execution_count": 5,
     "metadata": {},
     "output_type": "execute_result"
    }
   ],
   "source": [
    "ny.tail()"
   ]
  },
  {
   "cell_type": "markdown",
   "id": "0a9bb8dc",
   "metadata": {},
   "source": [
    "# 주가데이터 가져오기"
   ]
  },
  {
   "cell_type": "code",
   "execution_count": 6,
   "id": "e1f05666",
   "metadata": {
    "ExecuteTime": {
     "end_time": "2021-11-07T14:11:16.575105Z",
     "start_time": "2021-11-07T14:11:16.390443Z"
    }
   },
   "outputs": [
    {
     "data": {
      "text/html": [
       "<div>\n",
       "<style scoped>\n",
       "    .dataframe tbody tr th:only-of-type {\n",
       "        vertical-align: middle;\n",
       "    }\n",
       "\n",
       "    .dataframe tbody tr th {\n",
       "        vertical-align: top;\n",
       "    }\n",
       "\n",
       "    .dataframe thead th {\n",
       "        text-align: right;\n",
       "    }\n",
       "</style>\n",
       "<table border=\"1\" class=\"dataframe\">\n",
       "  <thead>\n",
       "    <tr style=\"text-align: right;\">\n",
       "      <th></th>\n",
       "      <th>Open</th>\n",
       "      <th>High</th>\n",
       "      <th>Low</th>\n",
       "      <th>Close</th>\n",
       "      <th>Volume</th>\n",
       "      <th>Change</th>\n",
       "    </tr>\n",
       "    <tr>\n",
       "      <th>Date</th>\n",
       "      <th></th>\n",
       "      <th></th>\n",
       "      <th></th>\n",
       "      <th></th>\n",
       "      <th></th>\n",
       "      <th></th>\n",
       "    </tr>\n",
       "  </thead>\n",
       "  <tbody>\n",
       "    <tr>\n",
       "      <th>1997-10-10</th>\n",
       "      <td>87000</td>\n",
       "      <td>87000</td>\n",
       "      <td>87000</td>\n",
       "      <td>87000</td>\n",
       "      <td>100</td>\n",
       "      <td>NaN</td>\n",
       "    </tr>\n",
       "    <tr>\n",
       "      <th>1997-10-11</th>\n",
       "      <td>93920</td>\n",
       "      <td>93920</td>\n",
       "      <td>93920</td>\n",
       "      <td>93920</td>\n",
       "      <td>20</td>\n",
       "      <td>0.079540</td>\n",
       "    </tr>\n",
       "    <tr>\n",
       "      <th>1997-10-13</th>\n",
       "      <td>92438</td>\n",
       "      <td>92438</td>\n",
       "      <td>92438</td>\n",
       "      <td>92437</td>\n",
       "      <td>0</td>\n",
       "      <td>-0.015790</td>\n",
       "    </tr>\n",
       "    <tr>\n",
       "      <th>1997-10-14</th>\n",
       "      <td>90955</td>\n",
       "      <td>95403</td>\n",
       "      <td>90955</td>\n",
       "      <td>95403</td>\n",
       "      <td>2000</td>\n",
       "      <td>0.032087</td>\n",
       "    </tr>\n",
       "    <tr>\n",
       "      <th>1997-10-15</th>\n",
       "      <td>94909</td>\n",
       "      <td>94909</td>\n",
       "      <td>94909</td>\n",
       "      <td>94909</td>\n",
       "      <td>0</td>\n",
       "      <td>-0.005178</td>\n",
       "    </tr>\n",
       "  </tbody>\n",
       "</table>\n",
       "</div>"
      ],
      "text/plain": [
       "             Open   High    Low  Close  Volume    Change\n",
       "Date                                                    \n",
       "1997-10-10  87000  87000  87000  87000     100       NaN\n",
       "1997-10-11  93920  93920  93920  93920      20  0.079540\n",
       "1997-10-13  92438  92438  92438  92437       0 -0.015790\n",
       "1997-10-14  90955  95403  90955  95403    2000  0.032087\n",
       "1997-10-15  94909  94909  94909  94909       0 -0.005178"
      ]
     },
     "execution_count": 6,
     "metadata": {},
     "output_type": "execute_result"
    }
   ],
   "source": [
    "ny_CODE = '003920'\n",
    "ony = fdr.DataReader(ny_CODE)\n",
    "ny.head()"
   ]
  },
  {
   "cell_type": "code",
   "execution_count": 7,
   "id": "0a7f5691",
   "metadata": {
    "ExecuteTime": {
     "end_time": "2021-11-07T14:11:16.591102Z",
     "start_time": "2021-11-07T14:11:16.576068Z"
    }
   },
   "outputs": [
    {
     "data": {
      "text/html": [
       "<div>\n",
       "<style scoped>\n",
       "    .dataframe tbody tr th:only-of-type {\n",
       "        vertical-align: middle;\n",
       "    }\n",
       "\n",
       "    .dataframe tbody tr th {\n",
       "        vertical-align: top;\n",
       "    }\n",
       "\n",
       "    .dataframe thead th {\n",
       "        text-align: right;\n",
       "    }\n",
       "</style>\n",
       "<table border=\"1\" class=\"dataframe\">\n",
       "  <thead>\n",
       "    <tr style=\"text-align: right;\">\n",
       "      <th></th>\n",
       "      <th>Open</th>\n",
       "      <th>High</th>\n",
       "      <th>Low</th>\n",
       "      <th>Close</th>\n",
       "      <th>Volume</th>\n",
       "      <th>Change</th>\n",
       "    </tr>\n",
       "    <tr>\n",
       "      <th>Date</th>\n",
       "      <th></th>\n",
       "      <th></th>\n",
       "      <th></th>\n",
       "      <th></th>\n",
       "      <th></th>\n",
       "      <th></th>\n",
       "    </tr>\n",
       "  </thead>\n",
       "  <tbody>\n",
       "    <tr>\n",
       "      <th>2021-11-01</th>\n",
       "      <td>444000</td>\n",
       "      <td>449000</td>\n",
       "      <td>425500</td>\n",
       "      <td>436500</td>\n",
       "      <td>9925</td>\n",
       "      <td>-0.043812</td>\n",
       "    </tr>\n",
       "    <tr>\n",
       "      <th>2021-11-02</th>\n",
       "      <td>434500</td>\n",
       "      <td>470000</td>\n",
       "      <td>430500</td>\n",
       "      <td>455500</td>\n",
       "      <td>8740</td>\n",
       "      <td>0.043528</td>\n",
       "    </tr>\n",
       "    <tr>\n",
       "      <th>2021-11-03</th>\n",
       "      <td>454500</td>\n",
       "      <td>465500</td>\n",
       "      <td>454500</td>\n",
       "      <td>455000</td>\n",
       "      <td>3332</td>\n",
       "      <td>-0.001098</td>\n",
       "    </tr>\n",
       "    <tr>\n",
       "      <th>2021-11-04</th>\n",
       "      <td>451000</td>\n",
       "      <td>459000</td>\n",
       "      <td>436500</td>\n",
       "      <td>442500</td>\n",
       "      <td>4457</td>\n",
       "      <td>-0.027473</td>\n",
       "    </tr>\n",
       "    <tr>\n",
       "      <th>2021-11-05</th>\n",
       "      <td>445000</td>\n",
       "      <td>445000</td>\n",
       "      <td>434500</td>\n",
       "      <td>439500</td>\n",
       "      <td>2279</td>\n",
       "      <td>-0.006780</td>\n",
       "    </tr>\n",
       "  </tbody>\n",
       "</table>\n",
       "</div>"
      ],
      "text/plain": [
       "              Open    High     Low   Close  Volume    Change\n",
       "Date                                                        \n",
       "2021-11-01  444000  449000  425500  436500    9925 -0.043812\n",
       "2021-11-02  434500  470000  430500  455500    8740  0.043528\n",
       "2021-11-03  454500  465500  454500  455000    3332 -0.001098\n",
       "2021-11-04  451000  459000  436500  442500    4457 -0.027473\n",
       "2021-11-05  445000  445000  434500  439500    2279 -0.006780"
      ]
     },
     "execution_count": 7,
     "metadata": {},
     "output_type": "execute_result"
    }
   ],
   "source": [
    "ny.tail()"
   ]
  },
  {
   "cell_type": "code",
   "execution_count": 8,
   "id": "374d9947",
   "metadata": {
    "ExecuteTime": {
     "end_time": "2021-11-07T14:11:16.607095Z",
     "start_time": "2021-11-07T14:11:16.593101Z"
    }
   },
   "outputs": [
    {
     "data": {
      "text/plain": [
       "DatetimeIndex(['1997-10-10', '1997-10-11', '1997-10-13', '1997-10-14',\n",
       "               '1997-10-15', '1997-10-16', '1997-10-17', '1997-10-18',\n",
       "               '1997-10-20', '1997-10-21',\n",
       "               ...\n",
       "               '2021-10-25', '2021-10-26', '2021-10-27', '2021-10-28',\n",
       "               '2021-10-29', '2021-11-01', '2021-11-02', '2021-11-03',\n",
       "               '2021-11-04', '2021-11-05'],\n",
       "              dtype='datetime64[ns]', name='Date', length=6000, freq=None)"
      ]
     },
     "execution_count": 8,
     "metadata": {},
     "output_type": "execute_result"
    }
   ],
   "source": [
    "ny.index"
   ]
  },
  {
   "cell_type": "code",
   "execution_count": 9,
   "id": "6414a8fd",
   "metadata": {
    "ExecuteTime": {
     "end_time": "2021-11-07T14:11:16.639066Z",
     "start_time": "2021-11-07T14:11:16.614069Z"
    }
   },
   "outputs": [],
   "source": [
    "ny['Year'] = ny.index.year\n",
    "ny['Month'] = ny.index.month\n",
    "ny['Day'] = ny.index.day"
   ]
  },
  {
   "cell_type": "code",
   "execution_count": 10,
   "id": "12fbb528",
   "metadata": {
    "ExecuteTime": {
     "end_time": "2021-11-07T14:11:16.655068Z",
     "start_time": "2021-11-07T14:11:16.643069Z"
    }
   },
   "outputs": [
    {
     "data": {
      "text/html": [
       "<div>\n",
       "<style scoped>\n",
       "    .dataframe tbody tr th:only-of-type {\n",
       "        vertical-align: middle;\n",
       "    }\n",
       "\n",
       "    .dataframe tbody tr th {\n",
       "        vertical-align: top;\n",
       "    }\n",
       "\n",
       "    .dataframe thead th {\n",
       "        text-align: right;\n",
       "    }\n",
       "</style>\n",
       "<table border=\"1\" class=\"dataframe\">\n",
       "  <thead>\n",
       "    <tr style=\"text-align: right;\">\n",
       "      <th></th>\n",
       "      <th>Open</th>\n",
       "      <th>High</th>\n",
       "      <th>Low</th>\n",
       "      <th>Close</th>\n",
       "      <th>Volume</th>\n",
       "      <th>Change</th>\n",
       "      <th>Year</th>\n",
       "      <th>Month</th>\n",
       "      <th>Day</th>\n",
       "    </tr>\n",
       "    <tr>\n",
       "      <th>Date</th>\n",
       "      <th></th>\n",
       "      <th></th>\n",
       "      <th></th>\n",
       "      <th></th>\n",
       "      <th></th>\n",
       "      <th></th>\n",
       "      <th></th>\n",
       "      <th></th>\n",
       "      <th></th>\n",
       "    </tr>\n",
       "  </thead>\n",
       "  <tbody>\n",
       "    <tr>\n",
       "      <th>1997-10-10</th>\n",
       "      <td>87000</td>\n",
       "      <td>87000</td>\n",
       "      <td>87000</td>\n",
       "      <td>87000</td>\n",
       "      <td>100</td>\n",
       "      <td>NaN</td>\n",
       "      <td>1997</td>\n",
       "      <td>10</td>\n",
       "      <td>10</td>\n",
       "    </tr>\n",
       "    <tr>\n",
       "      <th>1997-10-11</th>\n",
       "      <td>93920</td>\n",
       "      <td>93920</td>\n",
       "      <td>93920</td>\n",
       "      <td>93920</td>\n",
       "      <td>20</td>\n",
       "      <td>0.079540</td>\n",
       "      <td>1997</td>\n",
       "      <td>10</td>\n",
       "      <td>11</td>\n",
       "    </tr>\n",
       "    <tr>\n",
       "      <th>1997-10-13</th>\n",
       "      <td>92438</td>\n",
       "      <td>92438</td>\n",
       "      <td>92438</td>\n",
       "      <td>92437</td>\n",
       "      <td>0</td>\n",
       "      <td>-0.015790</td>\n",
       "      <td>1997</td>\n",
       "      <td>10</td>\n",
       "      <td>13</td>\n",
       "    </tr>\n",
       "    <tr>\n",
       "      <th>1997-10-14</th>\n",
       "      <td>90955</td>\n",
       "      <td>95403</td>\n",
       "      <td>90955</td>\n",
       "      <td>95403</td>\n",
       "      <td>2000</td>\n",
       "      <td>0.032087</td>\n",
       "      <td>1997</td>\n",
       "      <td>10</td>\n",
       "      <td>14</td>\n",
       "    </tr>\n",
       "    <tr>\n",
       "      <th>1997-10-15</th>\n",
       "      <td>94909</td>\n",
       "      <td>94909</td>\n",
       "      <td>94909</td>\n",
       "      <td>94909</td>\n",
       "      <td>0</td>\n",
       "      <td>-0.005178</td>\n",
       "      <td>1997</td>\n",
       "      <td>10</td>\n",
       "      <td>15</td>\n",
       "    </tr>\n",
       "  </tbody>\n",
       "</table>\n",
       "</div>"
      ],
      "text/plain": [
       "             Open   High    Low  Close  Volume    Change  Year  Month  Day\n",
       "Date                                                                      \n",
       "1997-10-10  87000  87000  87000  87000     100       NaN  1997     10   10\n",
       "1997-10-11  93920  93920  93920  93920      20  0.079540  1997     10   11\n",
       "1997-10-13  92438  92438  92438  92437       0 -0.015790  1997     10   13\n",
       "1997-10-14  90955  95403  90955  95403    2000  0.032087  1997     10   14\n",
       "1997-10-15  94909  94909  94909  94909       0 -0.005178  1997     10   15"
      ]
     },
     "execution_count": 10,
     "metadata": {},
     "output_type": "execute_result"
    }
   ],
   "source": [
    "ny.head()"
   ]
  },
  {
   "cell_type": "markdown",
   "id": "5a044d76",
   "metadata": {},
   "source": [
    "## 시각화"
   ]
  },
  {
   "cell_type": "code",
   "execution_count": 11,
   "id": "f1263499",
   "metadata": {
    "ExecuteTime": {
     "end_time": "2021-11-07T14:11:17.358103Z",
     "start_time": "2021-11-07T14:11:16.657065Z"
    }
   },
   "outputs": [
    {
     "data": {
      "text/plain": [
       "Text(0, 0.5, 'price')"
      ]
     },
     "execution_count": 11,
     "metadata": {},
     "output_type": "execute_result"
    },
    {
     "data": {
      "image/png": "[encoded data removed]",
      "text/plain": [
       "<Figure size 1152x648 with 1 Axes>"
      ]
     },
     "metadata": {
      "needs_background": "light"
     },
     "output_type": "display_data"
    }
   ],
   "source": [
    "plt.figure(figsize=(16, 9))\n",
    "sns.lineplot(y=ny['Close'], x=ny.index)\n",
    "plt.xlabel('time')\n",
    "plt.ylabel('price')"
   ]
  },
  {
   "cell_type": "code",
   "execution_count": 12,
   "id": "4bc6d061",
   "metadata": {
    "ExecuteTime": {
     "end_time": "2021-11-07T14:11:18.839212Z",
     "start_time": "2021-11-07T14:11:17.360067Z"
    }
   },
   "outputs": [
    {
     "data": {
      "image/png": "[encoded data removed]",
      "text/plain": [
       "<Figure size 1152x648 with 4 Axes>"
      ]
     },
     "metadata": {
      "needs_background": "light"
     },
     "output_type": "display_data"
    }
   ],
   "source": [
    "time_steps = [['1990', '2000'], \n",
    "              ['2000', '2010'], \n",
    "              ['2010', '2015'], \n",
    "              ['2015', '2020']]\n",
    "\n",
    "fig, axes = plt.subplots(2, 2)\n",
    "fig.set_size_inches(16, 9)\n",
    "for i in range(4):\n",
    "    ax = axes[i//2, i%2]\n",
    "    df = ny.loc[(ny.index > time_steps[i][0]) & (ny.index < time_steps[i][1])]\n",
    "    sns.lineplot(y=df['Close'], x=df.index, ax=ax)\n",
    "    ax.set_title(f'{time_steps[i][0]}~{time_steps[i][1]}')\n",
    "    ax.set_xlabel('time')\n",
    "    ax.set_ylabel('price')\n",
    "plt.tight_layout()\n",
    "plt.show()"
   ]
  },
  {
   "cell_type": "markdown",
   "id": "851a1d86",
   "metadata": {},
   "source": [
    "## 데이터 전처리"
   ]
  },
  {
   "cell_type": "markdown",
   "id": "28393d51",
   "metadata": {},
   "source": [
    "### 주가 데이터에 대하여 딥러닝 모델이 더 잘 학습할 수 있도록 정규화(Normalization)"
   ]
  },
  {
   "cell_type": "markdown",
   "id": "4f8bf0ec",
   "metadata": {},
   "source": [
    "MinMaxScaler를 해주면 전체 데이터는 0, 1사이의 값을 갖게된다."
   ]
  },
  {
   "cell_type": "code",
   "execution_count": 13,
   "id": "7509cfaf",
   "metadata": {
    "ExecuteTime": {
     "end_time": "2021-11-07T14:11:19.766178Z",
     "start_time": "2021-11-07T14:11:18.842181Z"
    }
   },
   "outputs": [
    {
     "data": {
      "text/plain": [
       "array([[7.46781116e-02, 7.40425532e-02, 7.61821366e-02, 2.92896976e-02,\n",
       "        4.24731251e-04],\n",
       "       [8.06180258e-02, 7.99319149e-02, 8.22416813e-02, 3.55209734e-02,\n",
       "        8.49462503e-05],\n",
       "       [7.93459227e-02, 7.86706383e-02, 8.09439580e-02, 3.41855714e-02,\n",
       "        0.00000000e+00],\n",
       "       ...,\n",
       "       [3.90128755e-01, 3.96170213e-01, 3.97985989e-01, 3.60663901e-01,\n",
       "        1.41520453e-02],\n",
       "       [3.87124464e-01, 3.90638298e-01, 3.82224168e-01, 3.49407984e-01,\n",
       "        1.89302719e-02],\n",
       "       [3.81974249e-01, 3.78723404e-01, 3.80472855e-01, 3.46706564e-01,\n",
       "        9.67962522e-03]])"
      ]
     },
     "execution_count": 13,
     "metadata": {},
     "output_type": "execute_result"
    }
   ],
   "source": [
    "from sklearn.preprocessing import MinMaxScaler\n",
    "\n",
    "scaler = MinMaxScaler()\n",
    "# 스케일을 적용할 column을 정의합니다.\n",
    "scale_cols = ['Open', 'High', 'Low', 'Close', 'Volume']\n",
    "# 스케일 후 columns\n",
    "scaled = scaler.fit_transform(ny[scale_cols])\n",
    "scaled"
   ]
  },
  {
   "cell_type": "code",
   "execution_count": 14,
   "id": "c040394e",
   "metadata": {
    "ExecuteTime": {
     "end_time": "2021-11-07T14:11:19.782290Z",
     "start_time": "2021-11-07T14:11:19.768180Z"
    }
   },
   "outputs": [],
   "source": [
    "df = pd.DataFrame(scaled, columns=scale_cols)"
   ]
  },
  {
   "cell_type": "code",
   "execution_count": 15,
   "id": "112cdcf0",
   "metadata": {
    "ExecuteTime": {
     "end_time": "2021-11-07T14:11:19.814282Z",
     "start_time": "2021-11-07T14:11:19.786285Z"
    }
   },
   "outputs": [
    {
     "data": {
      "text/html": [
       "<div>\n",
       "<style scoped>\n",
       "    .dataframe tbody tr th:only-of-type {\n",
       "        vertical-align: middle;\n",
       "    }\n",
       "\n",
       "    .dataframe tbody tr th {\n",
       "        vertical-align: top;\n",
       "    }\n",
       "\n",
       "    .dataframe thead th {\n",
       "        text-align: right;\n",
       "    }\n",
       "</style>\n",
       "<table border=\"1\" class=\"dataframe\">\n",
       "  <thead>\n",
       "    <tr style=\"text-align: right;\">\n",
       "      <th></th>\n",
       "      <th>Open</th>\n",
       "      <th>High</th>\n",
       "      <th>Low</th>\n",
       "      <th>Close</th>\n",
       "      <th>Volume</th>\n",
       "    </tr>\n",
       "  </thead>\n",
       "  <tbody>\n",
       "    <tr>\n",
       "      <th>0</th>\n",
       "      <td>0.074678</td>\n",
       "      <td>0.074043</td>\n",
       "      <td>0.076182</td>\n",
       "      <td>0.029290</td>\n",
       "      <td>0.000425</td>\n",
       "    </tr>\n",
       "    <tr>\n",
       "      <th>1</th>\n",
       "      <td>0.080618</td>\n",
       "      <td>0.079932</td>\n",
       "      <td>0.082242</td>\n",
       "      <td>0.035521</td>\n",
       "      <td>0.000085</td>\n",
       "    </tr>\n",
       "    <tr>\n",
       "      <th>2</th>\n",
       "      <td>0.079346</td>\n",
       "      <td>0.078671</td>\n",
       "      <td>0.080944</td>\n",
       "      <td>0.034186</td>\n",
       "      <td>0.000000</td>\n",
       "    </tr>\n",
       "    <tr>\n",
       "      <th>3</th>\n",
       "      <td>0.078073</td>\n",
       "      <td>0.081194</td>\n",
       "      <td>0.079645</td>\n",
       "      <td>0.036856</td>\n",
       "      <td>0.008495</td>\n",
       "    </tr>\n",
       "    <tr>\n",
       "      <th>4</th>\n",
       "      <td>0.081467</td>\n",
       "      <td>0.080774</td>\n",
       "      <td>0.083108</td>\n",
       "      <td>0.036412</td>\n",
       "      <td>0.000000</td>\n",
       "    </tr>\n",
       "    <tr>\n",
       "      <th>...</th>\n",
       "      <td>...</td>\n",
       "      <td>...</td>\n",
       "      <td>...</td>\n",
       "      <td>...</td>\n",
       "      <td>...</td>\n",
       "    </tr>\n",
       "    <tr>\n",
       "      <th>5995</th>\n",
       "      <td>0.381116</td>\n",
       "      <td>0.382128</td>\n",
       "      <td>0.372592</td>\n",
       "      <td>0.344005</td>\n",
       "      <td>0.042155</td>\n",
       "    </tr>\n",
       "    <tr>\n",
       "      <th>5996</th>\n",
       "      <td>0.372961</td>\n",
       "      <td>0.400000</td>\n",
       "      <td>0.376970</td>\n",
       "      <td>0.361114</td>\n",
       "      <td>0.037122</td>\n",
       "    </tr>\n",
       "    <tr>\n",
       "      <th>5997</th>\n",
       "      <td>0.390129</td>\n",
       "      <td>0.396170</td>\n",
       "      <td>0.397986</td>\n",
       "      <td>0.360664</td>\n",
       "      <td>0.014152</td>\n",
       "    </tr>\n",
       "    <tr>\n",
       "      <th>5998</th>\n",
       "      <td>0.387124</td>\n",
       "      <td>0.390638</td>\n",
       "      <td>0.382224</td>\n",
       "      <td>0.349408</td>\n",
       "      <td>0.018930</td>\n",
       "    </tr>\n",
       "    <tr>\n",
       "      <th>5999</th>\n",
       "      <td>0.381974</td>\n",
       "      <td>0.378723</td>\n",
       "      <td>0.380473</td>\n",
       "      <td>0.346707</td>\n",
       "      <td>0.009680</td>\n",
       "    </tr>\n",
       "  </tbody>\n",
       "</table>\n",
       "<p>6000 rows × 5 columns</p>\n",
       "</div>"
      ],
      "text/plain": [
       "          Open      High       Low     Close    Volume\n",
       "0     0.074678  0.074043  0.076182  0.029290  0.000425\n",
       "1     0.080618  0.079932  0.082242  0.035521  0.000085\n",
       "2     0.079346  0.078671  0.080944  0.034186  0.000000\n",
       "3     0.078073  0.081194  0.079645  0.036856  0.008495\n",
       "4     0.081467  0.080774  0.083108  0.036412  0.000000\n",
       "...        ...       ...       ...       ...       ...\n",
       "5995  0.381116  0.382128  0.372592  0.344005  0.042155\n",
       "5996  0.372961  0.400000  0.376970  0.361114  0.037122\n",
       "5997  0.390129  0.396170  0.397986  0.360664  0.014152\n",
       "5998  0.387124  0.390638  0.382224  0.349408  0.018930\n",
       "5999  0.381974  0.378723  0.380473  0.346707  0.009680\n",
       "\n",
       "[6000 rows x 5 columns]"
      ]
     },
     "execution_count": 15,
     "metadata": {},
     "output_type": "execute_result"
    }
   ],
   "source": [
    "df"
   ]
  },
  {
   "cell_type": "markdown",
   "id": "cfe0adf0",
   "metadata": {},
   "source": [
    "---"
   ]
  },
  {
   "cell_type": "markdown",
   "id": "e99665d1",
   "metadata": {},
   "source": [
    "### train / test 분할"
   ]
  },
  {
   "cell_type": "code",
   "execution_count": 14,
   "id": "5977adf1",
   "metadata": {
    "ExecuteTime": {
     "end_time": "2021-11-07T12:26:56.940785Z",
     "start_time": "2021-11-07T12:26:56.848786Z"
    }
   },
   "outputs": [
    {
     "data": {
      "text/plain": [
       "((4800, 4), (4800,))"
      ]
     },
     "execution_count": 14,
     "metadata": {},
     "output_type": "execute_result"
    }
   ],
   "source": [
    "from sklearn.model_selection import train_test_split\n",
    "x_train, x_test, y_train, y_test = train_test_split(df.drop('Close', 1), df['Close'], test_size=0.2, random_state=0, shuffle=False)\n",
    "x_train.shape, y_train.shape"
   ]
  },
  {
   "cell_type": "code",
   "execution_count": 15,
   "id": "41464b93",
   "metadata": {
    "ExecuteTime": {
     "end_time": "2021-11-07T12:26:56.956818Z",
     "start_time": "2021-11-07T12:26:56.942785Z"
    }
   },
   "outputs": [
    {
     "data": {
      "text/plain": [
       "((1200, 4), (1200,))"
      ]
     },
     "execution_count": 15,
     "metadata": {},
     "output_type": "execute_result"
    }
   ],
   "source": [
    "x_test.shape, y_test.shape"
   ]
  },
  {
   "cell_type": "code",
   "execution_count": 16,
   "id": "f74dfb57",
   "metadata": {
    "ExecuteTime": {
     "end_time": "2021-11-07T12:26:56.988784Z",
     "start_time": "2021-11-07T12:26:56.958787Z"
    }
   },
   "outputs": [
    {
     "data": {
      "text/html": [
       "<div>\n",
       "<style scoped>\n",
       "    .dataframe tbody tr th:only-of-type {\n",
       "        vertical-align: middle;\n",
       "    }\n",
       "\n",
       "    .dataframe tbody tr th {\n",
       "        vertical-align: top;\n",
       "    }\n",
       "\n",
       "    .dataframe thead th {\n",
       "        text-align: right;\n",
       "    }\n",
       "</style>\n",
       "<table border=\"1\" class=\"dataframe\">\n",
       "  <thead>\n",
       "    <tr style=\"text-align: right;\">\n",
       "      <th></th>\n",
       "      <th>Open</th>\n",
       "      <th>High</th>\n",
       "      <th>Low</th>\n",
       "      <th>Volume</th>\n",
       "    </tr>\n",
       "  </thead>\n",
       "  <tbody>\n",
       "    <tr>\n",
       "      <th>0</th>\n",
       "      <td>0.074678</td>\n",
       "      <td>0.074043</td>\n",
       "      <td>0.076182</td>\n",
       "      <td>0.000425</td>\n",
       "    </tr>\n",
       "    <tr>\n",
       "      <th>1</th>\n",
       "      <td>0.080618</td>\n",
       "      <td>0.079932</td>\n",
       "      <td>0.082242</td>\n",
       "      <td>0.000085</td>\n",
       "    </tr>\n",
       "    <tr>\n",
       "      <th>2</th>\n",
       "      <td>0.079346</td>\n",
       "      <td>0.078671</td>\n",
       "      <td>0.080944</td>\n",
       "      <td>0.000000</td>\n",
       "    </tr>\n",
       "    <tr>\n",
       "      <th>3</th>\n",
       "      <td>0.078073</td>\n",
       "      <td>0.081194</td>\n",
       "      <td>0.079645</td>\n",
       "      <td>0.008495</td>\n",
       "    </tr>\n",
       "    <tr>\n",
       "      <th>4</th>\n",
       "      <td>0.081467</td>\n",
       "      <td>0.080774</td>\n",
       "      <td>0.083108</td>\n",
       "      <td>0.000000</td>\n",
       "    </tr>\n",
       "    <tr>\n",
       "      <th>...</th>\n",
       "      <td>...</td>\n",
       "      <td>...</td>\n",
       "      <td>...</td>\n",
       "      <td>...</td>\n",
       "    </tr>\n",
       "    <tr>\n",
       "      <th>4795</th>\n",
       "      <td>0.638627</td>\n",
       "      <td>0.645106</td>\n",
       "      <td>0.651489</td>\n",
       "      <td>0.001215</td>\n",
       "    </tr>\n",
       "    <tr>\n",
       "      <th>4796</th>\n",
       "      <td>0.645494</td>\n",
       "      <td>0.644255</td>\n",
       "      <td>0.646235</td>\n",
       "      <td>0.001376</td>\n",
       "    </tr>\n",
       "    <tr>\n",
       "      <th>4797</th>\n",
       "      <td>0.651502</td>\n",
       "      <td>0.651064</td>\n",
       "      <td>0.653240</td>\n",
       "      <td>0.003908</td>\n",
       "    </tr>\n",
       "    <tr>\n",
       "      <th>4798</th>\n",
       "      <td>0.653219</td>\n",
       "      <td>0.653617</td>\n",
       "      <td>0.656743</td>\n",
       "      <td>0.002680</td>\n",
       "    </tr>\n",
       "    <tr>\n",
       "      <th>4799</th>\n",
       "      <td>0.647210</td>\n",
       "      <td>0.652766</td>\n",
       "      <td>0.656743</td>\n",
       "      <td>0.002510</td>\n",
       "    </tr>\n",
       "  </tbody>\n",
       "</table>\n",
       "<p>4800 rows × 4 columns</p>\n",
       "</div>"
      ],
      "text/plain": [
       "          Open      High       Low    Volume\n",
       "0     0.074678  0.074043  0.076182  0.000425\n",
       "1     0.080618  0.079932  0.082242  0.000085\n",
       "2     0.079346  0.078671  0.080944  0.000000\n",
       "3     0.078073  0.081194  0.079645  0.008495\n",
       "4     0.081467  0.080774  0.083108  0.000000\n",
       "...        ...       ...       ...       ...\n",
       "4795  0.638627  0.645106  0.651489  0.001215\n",
       "4796  0.645494  0.644255  0.646235  0.001376\n",
       "4797  0.651502  0.651064  0.653240  0.003908\n",
       "4798  0.653219  0.653617  0.656743  0.002680\n",
       "4799  0.647210  0.652766  0.656743  0.002510\n",
       "\n",
       "[4800 rows x 4 columns]"
      ]
     },
     "execution_count": 16,
     "metadata": {},
     "output_type": "execute_result"
    }
   ],
   "source": [
    "x_train"
   ]
  },
  {
   "cell_type": "markdown",
   "id": "ce1b7890",
   "metadata": {},
   "source": [
    "## TensroFlow Dataset을 활용한 시퀀스 데이터셋 구성"
   ]
  },
  {
   "cell_type": "code",
   "execution_count": 17,
   "id": "b201424b",
   "metadata": {
    "ExecuteTime": {
     "end_time": "2021-11-07T12:27:02.187853Z",
     "start_time": "2021-11-07T12:26:56.992793Z"
    }
   },
   "outputs": [],
   "source": [
    "import tensorflow as tf"
   ]
  },
  {
   "cell_type": "code",
   "execution_count": 18,
   "id": "afb5d630",
   "metadata": {
    "ExecuteTime": {
     "end_time": "2021-11-07T12:27:02.203567Z",
     "start_time": "2021-11-07T12:27:02.189566Z"
    }
   },
   "outputs": [],
   "source": [
    "def windowed_dataset(series, window_size, batch_size, shuffle):\n",
    "    series = tf.expand_dims(series, axis=-1)\n",
    "    ds = tf.data.Dataset.from_tensor_slices(series)\n",
    "    ds = ds.window(window_size + 1, shift=1, drop_remainder=True)\n",
    "    ds = ds.flat_map(lambda w: w.batch(window_size + 1))\n",
    "    if shuffle:\n",
    "        ds = ds.shuffle(1000)\n",
    "    ds = ds.map(lambda w: (w[:-1], w[-1]))\n",
    "    return ds.batch(batch_size).prefetch(1)"
   ]
  },
  {
   "cell_type": "markdown",
   "id": "4274f44c",
   "metadata": {},
   "source": [
    "### Hyperparameter 정의"
   ]
  },
  {
   "cell_type": "markdown",
   "id": "8faa907b",
   "metadata": {},
   "source": [
    "* window_size : 내가 얼마동안(기간)의 주가 데이터에 기반하여 다음날 종가를 예측할 것인가를 정하는 parameter"
   ]
  },
  {
   "cell_type": "code",
   "execution_count": 19,
   "id": "aa02f1e9",
   "metadata": {
    "ExecuteTime": {
     "end_time": "2021-11-07T12:27:02.218570Z",
     "start_time": "2021-11-07T12:27:02.206567Z"
    }
   },
   "outputs": [],
   "source": [
    "WINDOW_SIZE=20 # 과거 20일을 기반으로 내일의 데이터를 예측한다라고 가정\n",
    "BATCH_SIZE=32"
   ]
  },
  {
   "cell_type": "code",
   "execution_count": 20,
   "id": "7e84148a",
   "metadata": {
    "ExecuteTime": {
     "end_time": "2021-11-07T12:27:02.346599Z",
     "start_time": "2021-11-07T12:27:02.223574Z"
    }
   },
   "outputs": [],
   "source": [
    "# 학습용 데이터셋\n",
    "train_data = windowed_dataset(y_train, WINDOW_SIZE, BATCH_SIZE, True)\n",
    "\n",
    "# 검증용 데이터셋  \n",
    "test_data = windowed_dataset(y_test, WINDOW_SIZE, BATCH_SIZE, False)"
   ]
  },
  {
   "cell_type": "code",
   "execution_count": 21,
   "id": "92ff21e8",
   "metadata": {
    "ExecuteTime": {
     "end_time": "2021-11-07T12:27:02.458073Z",
     "start_time": "2021-11-07T12:27:02.348565Z"
    }
   },
   "outputs": [
    {
     "name": "stdout",
     "output_type": "stream",
     "text": [
      "데이터셋(X) 구성(batch_size, window_size, feature갯수): (32, 20, 1)\n",
      "데이터셋(Y) 구성(batch_size, window_size, feature갯수): (32, 1)\n"
     ]
    }
   ],
   "source": [
    "# 아래의 코드로 데이터셋의 구성을 확인해 볼 수 있습니다.\n",
    "# X: (batch_size, window_size, feature)\n",
    "# Y: (batch_size, feature)\n",
    "for data in train_data.take(1):\n",
    "    print(f'데이터셋(X) 구성(batch_size, window_size, feature갯수): {data[0].shape}')\n",
    "    print(f'데이터셋(Y) 구성(batch_size, window_size, feature갯수): {data[1].shape}')"
   ]
  },
  {
   "cell_type": "markdown",
   "id": "9cab4bed",
   "metadata": {},
   "source": [
    "## LSTM(Long-Short Term Memory) 모델\n",
    "* 순서가 중요한 feature의 요소일 때 흔히 적용하는 RNN(Recurrent Neural Network)의 한 종류\n",
    "* RNN모델의 단점인 그레디언트 소실(Gradient Vanishing Problem)을 <br>해결하고자 메모리를 도입한 LSTM을 사용\n",
    "*  또한 LSTM은 순환신경망에 메모리까지를 가지고 있어<br> 과거 시계열 데이터의 패턴 변화를 더 잘 잡아내는 특징을 가지고 있음"
   ]
  },
  {
   "cell_type": "code",
   "execution_count": 22,
   "id": "d7ae0e18",
   "metadata": {
    "ExecuteTime": {
     "end_time": "2021-11-07T12:27:02.920380Z",
     "start_time": "2021-11-07T12:27:02.459075Z"
    }
   },
   "outputs": [],
   "source": [
    "from tensorflow.keras.models import Sequential\n",
    "from tensorflow.keras.layers import Dense, LSTM, Conv1D, Lambda\n",
    "from tensorflow.keras.losses import Huber\n",
    "from tensorflow.keras.optimizers import Adam\n",
    "from tensorflow.keras.callbacks import EarlyStopping, ModelCheckpoint\n",
    "\n",
    "\n",
    "model = Sequential([\n",
    "    # 1차원 feature map 생성\n",
    "    Conv1D(filters=32, kernel_size=5,\n",
    "           padding=\"causal\",\n",
    "           activation=\"relu\",\n",
    "           input_shape=[WINDOW_SIZE, 1]),\n",
    "    # LSTM\n",
    "    LSTM(16, activation='tanh'),\n",
    "    Dense(16, activation=\"relu\"),\n",
    "    Dense(1),\n",
    "])"
   ]
  },
  {
   "cell_type": "code",
   "execution_count": 23,
   "id": "1fd6449f",
   "metadata": {
    "ExecuteTime": {
     "end_time": "2021-11-07T12:27:02.936694Z",
     "start_time": "2021-11-07T12:27:02.925076Z"
    }
   },
   "outputs": [],
   "source": [
    "# Sequence 학습에 비교적 좋은 퍼포먼스를 내는 Huber()를 사용 \n",
    "loss = Huber()\n",
    "optimizer = Adam(0.0005)\n",
    "model.compile(loss=Huber(), optimizer=optimizer, metrics=['mse'])"
   ]
  },
  {
   "cell_type": "code",
   "execution_count": 24,
   "id": "17756d7c",
   "metadata": {
    "ExecuteTime": {
     "end_time": "2021-11-07T12:27:02.952690Z",
     "start_time": "2021-11-07T12:27:02.939579Z"
    }
   },
   "outputs": [],
   "source": [
    "# earlystopping은 10번 epoch통안 val_loss 개선이 없다면 학습을 멈춘다.\n",
    "earlystopping = EarlyStopping(monitor='val_loss', patience=10)\n",
    "# val_loss 기준 체크포인터 생성\n",
    "filename = os.path.join('tmp', 'ckeckpointer.ckpt')\n",
    "checkpoint = ModelCheckpoint(filename, \n",
    "                             save_weights_only=True, \n",
    "                             save_best_only=True, \n",
    "                             monitor='val_loss', \n",
    "                             verbose=1)"
   ]
  },
  {
   "cell_type": "code",
   "execution_count": 25,
   "id": "1abb556f",
   "metadata": {
    "ExecuteTime": {
     "end_time": "2021-11-07T12:28:02.947352Z",
     "start_time": "2021-11-07T12:27:02.955582Z"
    },
    "scrolled": true
   },
   "outputs": [
    {
     "name": "stdout",
     "output_type": "stream",
     "text": [
      "Epoch 1/50\n",
      "150/150 [==============================] - 4s 11ms/step - loss: 0.0011 - mse: 0.0021 - val_loss: 2.8376e-04 - val_mse: 5.6752e-04\n",
      "\n",
      "Epoch 00001: val_loss improved from inf to 0.00028, saving model to tmp\\ckeckpointer.ckpt\n",
      "Epoch 2/50\n",
      "150/150 [==============================] - 1s 7ms/step - loss: 2.4914e-04 - mse: 4.9828e-04 - val_loss: 2.5861e-04 - val_mse: 5.1723e-04\n",
      "\n",
      "Epoch 00002: val_loss improved from 0.00028 to 0.00026, saving model to tmp\\ckeckpointer.ckpt\n",
      "Epoch 3/50\n",
      "150/150 [==============================] - 1s 6ms/step - loss: 2.2917e-04 - mse: 4.5835e-04 - val_loss: 2.8526e-04 - val_mse: 5.7052e-04\n",
      "\n",
      "Epoch 00003: val_loss did not improve from 0.00026\n",
      "Epoch 4/50\n",
      "150/150 [==============================] - 1s 6ms/step - loss: 2.2146e-04 - mse: 4.4293e-04 - val_loss: 2.7872e-04 - val_mse: 5.5743e-04\n",
      "\n",
      "Epoch 00004: val_loss did not improve from 0.00026\n",
      "Epoch 5/50\n",
      "150/150 [==============================] - 1s 6ms/step - loss: 1.8946e-04 - mse: 3.7892e-04 - val_loss: 2.3202e-04 - val_mse: 4.6404e-04\n",
      "\n",
      "Epoch 00005: val_loss improved from 0.00026 to 0.00023, saving model to tmp\\ckeckpointer.ckpt\n",
      "Epoch 6/50\n",
      "150/150 [==============================] - 1s 7ms/step - loss: 1.7588e-04 - mse: 3.5177e-04 - val_loss: 2.0175e-04 - val_mse: 4.0351e-04\n",
      "\n",
      "Epoch 00006: val_loss improved from 0.00023 to 0.00020, saving model to tmp\\ckeckpointer.ckpt\n",
      "Epoch 7/50\n",
      "150/150 [==============================] - 1s 7ms/step - loss: 1.6442e-04 - mse: 3.2884e-04 - val_loss: 1.8126e-04 - val_mse: 3.6251e-04\n",
      "\n",
      "Epoch 00007: val_loss improved from 0.00020 to 0.00018, saving model to tmp\\ckeckpointer.ckpt\n",
      "Epoch 8/50\n",
      "150/150 [==============================] - 1s 6ms/step - loss: 1.4658e-04 - mse: 2.9317e-04 - val_loss: 1.4572e-04 - val_mse: 2.9145e-04\n",
      "\n",
      "Epoch 00008: val_loss improved from 0.00018 to 0.00015, saving model to tmp\\ckeckpointer.ckpt\n",
      "Epoch 9/50\n",
      "150/150 [==============================] - 1s 6ms/step - loss: 1.4011e-04 - mse: 2.8022e-04 - val_loss: 1.3764e-04 - val_mse: 2.7529e-04\n",
      "\n",
      "Epoch 00009: val_loss improved from 0.00015 to 0.00014, saving model to tmp\\ckeckpointer.ckpt\n",
      "Epoch 10/50\n",
      "150/150 [==============================] - 1s 6ms/step - loss: 1.2240e-04 - mse: 2.4480e-04 - val_loss: 1.2825e-04 - val_mse: 2.5650e-04\n",
      "\n",
      "Epoch 00010: val_loss improved from 0.00014 to 0.00013, saving model to tmp\\ckeckpointer.ckpt\n",
      "Epoch 11/50\n",
      "150/150 [==============================] - 1s 6ms/step - loss: 1.1717e-04 - mse: 2.3434e-04 - val_loss: 1.6988e-04 - val_mse: 3.3976e-04\n",
      "\n",
      "Epoch 00011: val_loss did not improve from 0.00013\n",
      "Epoch 12/50\n",
      "150/150 [==============================] - 1s 8ms/step - loss: 1.1757e-04 - mse: 2.3515e-04 - val_loss: 1.1678e-04 - val_mse: 2.3356e-04\n",
      "\n",
      "Epoch 00012: val_loss improved from 0.00013 to 0.00012, saving model to tmp\\ckeckpointer.ckpt\n",
      "Epoch 13/50\n",
      "150/150 [==============================] - 1s 6ms/step - loss: 1.0322e-04 - mse: 2.0643e-04 - val_loss: 1.4576e-04 - val_mse: 2.9152e-04\n",
      "\n",
      "Epoch 00013: val_loss did not improve from 0.00012\n",
      "Epoch 14/50\n",
      "150/150 [==============================] - 1s 6ms/step - loss: 1.0644e-04 - mse: 2.1288e-04 - val_loss: 1.1900e-04 - val_mse: 2.3799e-04\n",
      "\n",
      "Epoch 00014: val_loss did not improve from 0.00012\n",
      "Epoch 15/50\n",
      "150/150 [==============================] - 1s 6ms/step - loss: 9.4943e-05 - mse: 1.8989e-04 - val_loss: 1.0228e-04 - val_mse: 2.0457e-04\n",
      "\n",
      "Epoch 00015: val_loss improved from 0.00012 to 0.00010, saving model to tmp\\ckeckpointer.ckpt\n",
      "Epoch 16/50\n",
      "150/150 [==============================] - 1s 7ms/step - loss: 9.7993e-05 - mse: 1.9599e-04 - val_loss: 9.3600e-05 - val_mse: 1.8720e-04\n",
      "\n",
      "Epoch 00016: val_loss improved from 0.00010 to 0.00009, saving model to tmp\\ckeckpointer.ckpt\n",
      "Epoch 17/50\n",
      "150/150 [==============================] - 1s 7ms/step - loss: 9.7220e-05 - mse: 1.9444e-04 - val_loss: 1.0434e-04 - val_mse: 2.0868e-04\n",
      "\n",
      "Epoch 00017: val_loss did not improve from 0.00009\n",
      "Epoch 18/50\n",
      "150/150 [==============================] - 1s 7ms/step - loss: 8.9915e-05 - mse: 1.7983e-04 - val_loss: 8.7708e-05 - val_mse: 1.7542e-04\n",
      "\n",
      "Epoch 00018: val_loss improved from 0.00009 to 0.00009, saving model to tmp\\ckeckpointer.ckpt\n",
      "Epoch 19/50\n",
      "150/150 [==============================] - 1s 7ms/step - loss: 8.7890e-05 - mse: 1.7578e-04 - val_loss: 8.6416e-05 - val_mse: 1.7283e-04\n",
      "\n",
      "Epoch 00019: val_loss improved from 0.00009 to 0.00009, saving model to tmp\\ckeckpointer.ckpt\n",
      "Epoch 20/50\n",
      "150/150 [==============================] - 1s 7ms/step - loss: 9.1681e-05 - mse: 1.8336e-04 - val_loss: 1.3639e-04 - val_mse: 2.7278e-04\n",
      "\n",
      "Epoch 00020: val_loss did not improve from 0.00009\n",
      "Epoch 21/50\n",
      "150/150 [==============================] - 1s 7ms/step - loss: 8.5000e-05 - mse: 1.7000e-04 - val_loss: 9.3035e-05 - val_mse: 1.8607e-04\n",
      "\n",
      "Epoch 00021: val_loss did not improve from 0.00009\n",
      "Epoch 22/50\n",
      "150/150 [==============================] - 1s 7ms/step - loss: 8.8663e-05 - mse: 1.7733e-04 - val_loss: 8.0181e-05 - val_mse: 1.6036e-04\n",
      "\n",
      "Epoch 00022: val_loss improved from 0.00009 to 0.00008, saving model to tmp\\ckeckpointer.ckpt\n",
      "Epoch 23/50\n",
      "150/150 [==============================] - 1s 8ms/step - loss: 8.3712e-05 - mse: 1.6742e-04 - val_loss: 7.8288e-05 - val_mse: 1.5658e-04\n",
      "\n",
      "Epoch 00023: val_loss improved from 0.00008 to 0.00008, saving model to tmp\\ckeckpointer.ckpt\n",
      "Epoch 24/50\n",
      "150/150 [==============================] - 1s 7ms/step - loss: 8.3764e-05 - mse: 1.6753e-04 - val_loss: 8.5488e-05 - val_mse: 1.7098e-04\n",
      "\n",
      "Epoch 00024: val_loss did not improve from 0.00008\n",
      "Epoch 25/50\n",
      "150/150 [==============================] - 1s 7ms/step - loss: 8.5711e-05 - mse: 1.7142e-04 - val_loss: 8.1043e-05 - val_mse: 1.6209e-04\n",
      "\n",
      "Epoch 00025: val_loss did not improve from 0.00008\n",
      "Epoch 26/50\n",
      "150/150 [==============================] - 1s 7ms/step - loss: 8.3948e-05 - mse: 1.6790e-04 - val_loss: 7.5132e-05 - val_mse: 1.5026e-04\n",
      "\n",
      "Epoch 00026: val_loss improved from 0.00008 to 0.00008, saving model to tmp\\ckeckpointer.ckpt\n",
      "Epoch 27/50\n",
      "150/150 [==============================] - 1s 7ms/step - loss: 8.6358e-05 - mse: 1.7272e-04 - val_loss: 7.5462e-05 - val_mse: 1.5092e-04\n",
      "\n",
      "Epoch 00027: val_loss did not improve from 0.00008\n",
      "Epoch 28/50\n",
      "150/150 [==============================] - 1s 9ms/step - loss: 7.8477e-05 - mse: 1.5695e-04 - val_loss: 7.2682e-05 - val_mse: 1.4536e-04\n",
      "\n",
      "Epoch 00028: val_loss improved from 0.00008 to 0.00007, saving model to tmp\\ckeckpointer.ckpt\n",
      "Epoch 29/50\n",
      "150/150 [==============================] - 1s 7ms/step - loss: 8.1868e-05 - mse: 1.6374e-04 - val_loss: 7.2125e-05 - val_mse: 1.4425e-04\n",
      "\n",
      "Epoch 00029: val_loss improved from 0.00007 to 0.00007, saving model to tmp\\ckeckpointer.ckpt\n",
      "Epoch 30/50\n",
      "150/150 [==============================] - 1s 7ms/step - loss: 8.0765e-05 - mse: 1.6153e-04 - val_loss: 7.2023e-05 - val_mse: 1.4405e-04\n",
      "\n",
      "Epoch 00030: val_loss improved from 0.00007 to 0.00007, saving model to tmp\\ckeckpointer.ckpt\n",
      "Epoch 31/50\n",
      "150/150 [==============================] - 1s 7ms/step - loss: 8.0746e-05 - mse: 1.6149e-04 - val_loss: 7.6363e-05 - val_mse: 1.5273e-04\n",
      "\n",
      "Epoch 00031: val_loss did not improve from 0.00007\n",
      "Epoch 32/50\n",
      "150/150 [==============================] - 1s 7ms/step - loss: 7.8222e-05 - mse: 1.5644e-04 - val_loss: 7.5573e-05 - val_mse: 1.5115e-04\n",
      "\n",
      "Epoch 00032: val_loss did not improve from 0.00007\n",
      "Epoch 33/50\n",
      "150/150 [==============================] - 1s 8ms/step - loss: 7.5525e-05 - mse: 1.5105e-04 - val_loss: 7.4956e-05 - val_mse: 1.4991e-04\n",
      "\n",
      "Epoch 00033: val_loss did not improve from 0.00007\n",
      "Epoch 34/50\n",
      "150/150 [==============================] - 1s 7ms/step - loss: 8.0858e-05 - mse: 1.6172e-04 - val_loss: 9.3049e-05 - val_mse: 1.8610e-04\n",
      "\n",
      "Epoch 00034: val_loss did not improve from 0.00007\n",
      "Epoch 35/50\n",
      "150/150 [==============================] - 1s 7ms/step - loss: 8.1247e-05 - mse: 1.6249e-04 - val_loss: 7.1397e-05 - val_mse: 1.4279e-04\n",
      "\n",
      "Epoch 00035: val_loss improved from 0.00007 to 0.00007, saving model to tmp\\ckeckpointer.ckpt\n",
      "Epoch 36/50\n",
      "150/150 [==============================] - 1s 7ms/step - loss: 7.3383e-05 - mse: 1.4677e-04 - val_loss: 7.1476e-05 - val_mse: 1.4295e-04\n",
      "\n",
      "Epoch 00036: val_loss did not improve from 0.00007\n",
      "Epoch 37/50\n",
      "150/150 [==============================] - 1s 7ms/step - loss: 7.8485e-05 - mse: 1.5697e-04 - val_loss: 6.6569e-05 - val_mse: 1.3314e-04\n",
      "\n",
      "Epoch 00037: val_loss improved from 0.00007 to 0.00007, saving model to tmp\\ckeckpointer.ckpt\n",
      "Epoch 38/50\n",
      "150/150 [==============================] - 1s 8ms/step - loss: 7.7180e-05 - mse: 1.5436e-04 - val_loss: 7.4547e-05 - val_mse: 1.4909e-04\n",
      "\n",
      "Epoch 00038: val_loss did not improve from 0.00007\n",
      "Epoch 39/50\n",
      "150/150 [==============================] - 1s 7ms/step - loss: 7.6749e-05 - mse: 1.5350e-04 - val_loss: 6.8057e-05 - val_mse: 1.3611e-04\n",
      "\n",
      "Epoch 00039: val_loss did not improve from 0.00007\n",
      "Epoch 40/50\n",
      "150/150 [==============================] - 1s 7ms/step - loss: 7.3152e-05 - mse: 1.4630e-04 - val_loss: 8.6126e-05 - val_mse: 1.7225e-04\n",
      "\n",
      "Epoch 00040: val_loss did not improve from 0.00007\n",
      "Epoch 41/50\n",
      "150/150 [==============================] - 1s 7ms/step - loss: 8.1048e-05 - mse: 1.6210e-04 - val_loss: 6.5769e-05 - val_mse: 1.3154e-04\n",
      "\n",
      "Epoch 00041: val_loss improved from 0.00007 to 0.00007, saving model to tmp\\ckeckpointer.ckpt\n",
      "Epoch 42/50\n",
      "150/150 [==============================] - 1s 7ms/step - loss: 7.1955e-05 - mse: 1.4391e-04 - val_loss: 7.3825e-05 - val_mse: 1.4765e-04\n",
      "\n",
      "Epoch 00042: val_loss did not improve from 0.00007\n",
      "Epoch 43/50\n",
      "150/150 [==============================] - 1s 7ms/step - loss: 7.5596e-05 - mse: 1.5119e-04 - val_loss: 6.3352e-05 - val_mse: 1.2670e-04\n",
      "\n",
      "Epoch 00043: val_loss improved from 0.00007 to 0.00006, saving model to tmp\\ckeckpointer.ckpt\n",
      "Epoch 44/50\n",
      "150/150 [==============================] - 1s 8ms/step - loss: 7.4333e-05 - mse: 1.4867e-04 - val_loss: 7.4550e-05 - val_mse: 1.4910e-04\n",
      "\n",
      "Epoch 00044: val_loss did not improve from 0.00006\n",
      "Epoch 45/50\n",
      "150/150 [==============================] - 1s 7ms/step - loss: 7.7131e-05 - mse: 1.5426e-04 - val_loss: 6.2563e-05 - val_mse: 1.2513e-04\n",
      "\n",
      "Epoch 00045: val_loss improved from 0.00006 to 0.00006, saving model to tmp\\ckeckpointer.ckpt\n",
      "Epoch 46/50\n",
      "150/150 [==============================] - 1s 7ms/step - loss: 7.2074e-05 - mse: 1.4415e-04 - val_loss: 6.2376e-05 - val_mse: 1.2475e-04\n",
      "\n",
      "Epoch 00046: val_loss improved from 0.00006 to 0.00006, saving model to tmp\\ckeckpointer.ckpt\n",
      "Epoch 47/50\n",
      "150/150 [==============================] - 1s 7ms/step - loss: 7.5589e-05 - mse: 1.5118e-04 - val_loss: 7.2209e-05 - val_mse: 1.4442e-04\n",
      "\n",
      "Epoch 00047: val_loss did not improve from 0.00006\n",
      "Epoch 48/50\n",
      "150/150 [==============================] - 1s 7ms/step - loss: 7.3704e-05 - mse: 1.4741e-04 - val_loss: 6.4090e-05 - val_mse: 1.2818e-04\n",
      "\n",
      "Epoch 00048: val_loss did not improve from 0.00006\n",
      "Epoch 49/50\n",
      "150/150 [==============================] - 1s 9ms/step - loss: 6.8223e-05 - mse: 1.3645e-04 - val_loss: 7.5338e-05 - val_mse: 1.5068e-04\n",
      "\n",
      "Epoch 00049: val_loss did not improve from 0.00006\n",
      "Epoch 50/50\n",
      "150/150 [==============================] - 1s 7ms/step - loss: 7.3281e-05 - mse: 1.4656e-04 - val_loss: 6.2887e-05 - val_mse: 1.2577e-04\n",
      "\n",
      "Epoch 00050: val_loss did not improve from 0.00006\n"
     ]
    }
   ],
   "source": [
    "history = model.fit(train_data, \n",
    "                    validation_data=(test_data), \n",
    "                    epochs=50, \n",
    "                    callbacks=[checkpoint, earlystopping])"
   ]
  },
  {
   "cell_type": "markdown",
   "id": "8987c7ea",
   "metadata": {},
   "source": [
    "#### 저장한 ModelCheckpoint 를 로드"
   ]
  },
  {
   "cell_type": "code",
   "execution_count": 26,
   "id": "f95b8c6a",
   "metadata": {
    "ExecuteTime": {
     "end_time": "2021-11-07T12:28:03.058350Z",
     "start_time": "2021-11-07T12:28:02.950352Z"
    }
   },
   "outputs": [
    {
     "data": {
      "text/plain": [
       "<tensorflow.python.training.tracking.util.CheckpointLoadStatus at 0x2705abcad60>"
      ]
     },
     "execution_count": 26,
     "metadata": {},
     "output_type": "execute_result"
    }
   ],
   "source": [
    "model.load_weights(filename)"
   ]
  },
  {
   "cell_type": "markdown",
   "id": "ce6ad528",
   "metadata": {},
   "source": [
    "#### test_data를 활용하여 예측을 진행"
   ]
  },
  {
   "cell_type": "code",
   "execution_count": 27,
   "id": "089164bf",
   "metadata": {
    "ExecuteTime": {
     "end_time": "2021-11-07T12:28:03.708431Z",
     "start_time": "2021-11-07T12:28:03.060354Z"
    }
   },
   "outputs": [
    {
     "data": {
      "text/plain": [
       "(1180, 1)"
      ]
     },
     "execution_count": 27,
     "metadata": {},
     "output_type": "execute_result"
    }
   ],
   "source": [
    "pred = model.predict(test_data)\n",
    "pred.shape"
   ]
  },
  {
   "cell_type": "markdown",
   "id": "0830145c",
   "metadata": {},
   "source": [
    "#### 예측 데이터 시각화\n",
    "아래 시각화 코드중 y_test 데이터에 [20:]으로 슬라이싱을 한 이유는\n",
    "예측 데이터에서 20일치의 데이터로 21일치를 예측해야하기 때문에 test_data로 예측 시 앞의 20일은 예측하지 않습니다.\n",
    "따라서, 20번 째 index와 비교하면 더욱 정확합니다."
   ]
  },
  {
   "cell_type": "code",
   "execution_count": 28,
   "id": "4c5563e6",
   "metadata": {
    "ExecuteTime": {
     "end_time": "2021-11-07T12:28:03.930388Z",
     "start_time": "2021-11-07T12:28:03.711394Z"
    },
    "scrolled": false
   },
   "outputs": [
    {
     "data": {
      "image/png": "[encoded data removed]",
      "text/plain": [
       "<Figure size 864x648 with 1 Axes>"
      ]
     },
     "metadata": {
      "needs_background": "light"
     },
     "output_type": "display_data"
    }
   ],
   "source": [
    "plt.figure(figsize=(12, 9))\n",
    "plt.plot(np.asarray(y_test)[20:], label='actual')\n",
    "plt.plot(pred, label='prediction')\n",
    "plt.legend()\n",
    "plt.show()"
   ]
  },
  {
   "cell_type": "code",
   "execution_count": 29,
   "id": "38f6624b",
   "metadata": {
    "ExecuteTime": {
     "end_time": "2021-11-07T12:28:03.946392Z",
     "start_time": "2021-11-07T12:28:03.932391Z"
    },
    "scrolled": false
   },
   "outputs": [
    {
     "data": {
      "text/html": [
       "<div>\n",
       "<style scoped>\n",
       "    .dataframe tbody tr th:only-of-type {\n",
       "        vertical-align: middle;\n",
       "    }\n",
       "\n",
       "    .dataframe tbody tr th {\n",
       "        vertical-align: top;\n",
       "    }\n",
       "\n",
       "    .dataframe thead th {\n",
       "        text-align: right;\n",
       "    }\n",
       "</style>\n",
       "<table border=\"1\" class=\"dataframe\">\n",
       "  <thead>\n",
       "    <tr style=\"text-align: right;\">\n",
       "      <th></th>\n",
       "      <th>0</th>\n",
       "    </tr>\n",
       "  </thead>\n",
       "  <tbody>\n",
       "    <tr>\n",
       "      <th>0</th>\n",
       "      <td>0.627148</td>\n",
       "    </tr>\n",
       "    <tr>\n",
       "      <th>1</th>\n",
       "      <td>0.630084</td>\n",
       "    </tr>\n",
       "    <tr>\n",
       "      <th>2</th>\n",
       "      <td>0.625203</td>\n",
       "    </tr>\n",
       "    <tr>\n",
       "      <th>3</th>\n",
       "      <td>0.627783</td>\n",
       "    </tr>\n",
       "    <tr>\n",
       "      <th>4</th>\n",
       "      <td>0.621087</td>\n",
       "    </tr>\n",
       "    <tr>\n",
       "      <th>...</th>\n",
       "      <td>...</td>\n",
       "    </tr>\n",
       "    <tr>\n",
       "      <th>1175</th>\n",
       "      <td>0.374822</td>\n",
       "    </tr>\n",
       "    <tr>\n",
       "      <th>1176</th>\n",
       "      <td>0.357529</td>\n",
       "    </tr>\n",
       "    <tr>\n",
       "      <th>1177</th>\n",
       "      <td>0.352418</td>\n",
       "    </tr>\n",
       "    <tr>\n",
       "      <th>1178</th>\n",
       "      <td>0.356420</td>\n",
       "    </tr>\n",
       "    <tr>\n",
       "      <th>1179</th>\n",
       "      <td>0.353946</td>\n",
       "    </tr>\n",
       "  </tbody>\n",
       "</table>\n",
       "<p>1180 rows × 1 columns</p>\n",
       "</div>"
      ],
      "text/plain": [
       "             0\n",
       "0     0.627148\n",
       "1     0.630084\n",
       "2     0.625203\n",
       "3     0.627783\n",
       "4     0.621087\n",
       "...        ...\n",
       "1175  0.374822\n",
       "1176  0.357529\n",
       "1177  0.352418\n",
       "1178  0.356420\n",
       "1179  0.353946\n",
       "\n",
       "[1180 rows x 1 columns]"
      ]
     },
     "execution_count": 29,
     "metadata": {},
     "output_type": "execute_result"
    }
   ],
   "source": [
    "pd.DataFrame(pred)"
   ]
  },
  {
   "cell_type": "code",
   "execution_count": 30,
   "id": "3d87c79b",
   "metadata": {
    "ExecuteTime": {
     "end_time": "2021-11-07T12:28:03.962395Z",
     "start_time": "2021-11-07T12:28:03.948391Z"
    }
   },
   "outputs": [
    {
     "data": {
      "text/plain": [
       "array([[0.6271484 ],\n",
       "       [0.6300843 ],\n",
       "       [0.62520295],\n",
       "       ...,\n",
       "       [0.35241786],\n",
       "       [0.35641995],\n",
       "       [0.3539462 ]], dtype=float32)"
      ]
     },
     "execution_count": 30,
     "metadata": {},
     "output_type": "execute_result"
    }
   ],
   "source": [
    "pred"
   ]
  },
  {
   "cell_type": "markdown",
   "id": "feb9f179",
   "metadata": {},
   "source": [
    "---"
   ]
  },
  {
   "cell_type": "markdown",
   "id": "b41a569d",
   "metadata": {},
   "source": [
    "### 200일 이전의 데이터 학습\n",
    "* TEST_SIZE = 200은 학습은 과거부터 200일 이전의 데이터를 학습하게 되고, <br>TEST를 위해서 이후 200일의 데이터로 모델이 주가를 예측하도록 한 다음, 실제 데이터와 오차가 얼마나 있는지 확인한다.\n",
    "* 전처리 직후 데이터 분리 전단계의 데이터 사용"
   ]
  },
  {
   "cell_type": "code",
   "execution_count": 16,
   "id": "f9f84582",
   "metadata": {
    "ExecuteTime": {
     "end_time": "2021-11-07T14:11:19.830314Z",
     "start_time": "2021-11-07T14:11:19.816285Z"
    }
   },
   "outputs": [],
   "source": [
    "TEST_SIZE = 200"
   ]
  },
  {
   "cell_type": "code",
   "execution_count": 17,
   "id": "c9561a34",
   "metadata": {
    "ExecuteTime": {
     "end_time": "2021-11-07T14:11:19.846314Z",
     "start_time": "2021-11-07T14:11:19.832285Z"
    }
   },
   "outputs": [],
   "source": [
    "train = df[:-TEST_SIZE]\n",
    "test = df[-TEST_SIZE:]"
   ]
  },
  {
   "cell_type": "markdown",
   "id": "8ac761ba",
   "metadata": {},
   "source": [
    "### dataset을 만들어 주는 함수\n",
    "정해진 window_size에 기반하여 20일 기간의 데이터 셋을 묶어 주는 역할 <br>\n",
    "순차적으로 20일 동안의 데이터 셋을 묶고, 이에 맞는 label (예측 데이터)와 함께 return"
   ]
  },
  {
   "cell_type": "code",
   "execution_count": 18,
   "id": "60213f6b",
   "metadata": {
    "ExecuteTime": {
     "end_time": "2021-11-07T14:11:19.862358Z",
     "start_time": "2021-11-07T14:11:19.848283Z"
    }
   },
   "outputs": [],
   "source": [
    "def make_dataset(data, label, window_size=20):\n",
    "    feature_list = []\n",
    "    label_list = []\n",
    "    for i in range(len(data) - window_size):\n",
    "        feature_list.append(np.array(data.iloc[i:i+window_size]))\n",
    "        label_list.append(np.array(label.iloc[i+window_size]))\n",
    "    return np.array(feature_list), np.array(label_list)"
   ]
  },
  {
   "cell_type": "markdown",
   "id": "99bbf4d4",
   "metadata": {},
   "source": [
    "### feature 와 label 정의"
   ]
  },
  {
   "cell_type": "code",
   "execution_count": 19,
   "id": "0fd5b185",
   "metadata": {
    "ExecuteTime": {
     "end_time": "2021-11-07T14:11:20.754283Z",
     "start_time": "2021-11-07T14:11:19.868287Z"
    }
   },
   "outputs": [
    {
     "data": {
      "text/plain": [
       "((180, 20, 4), (180, 1))"
      ]
     },
     "execution_count": 19,
     "metadata": {},
     "output_type": "execute_result"
    }
   ],
   "source": [
    "feature_cols = ['Open', 'High', 'Low', 'Volume']\n",
    "label_cols = ['Close']\n",
    "\n",
    "train_feature = train[feature_cols]\n",
    "train_label = train[label_cols]\n",
    "\n",
    "test_feature = test[feature_cols]\n",
    "test_label = test[label_cols]\n",
    "\n",
    "# train dataset\n",
    "train_feature, train_label = make_dataset(train_feature, train_label, 20)\n",
    "\n",
    "# train, validation set 생성\n",
    "from sklearn.model_selection import train_test_split\n",
    "x_train, x_valid, y_train, y_valid = train_test_split(train_feature, train_label, test_size=0.2)\n",
    "\n",
    "x_train.shape, x_valid.shape\n",
    "# ((6086, 20, 4), (1522, 20, 4))\n",
    "\n",
    "# test dataset (실제 예측 해볼 데이터)\n",
    "test_feature, test_label = make_dataset(test_feature, test_label, 20)\n",
    "test_feature.shape, test_label.shape\n",
    "# ((180, 20, 4), (180, 1))"
   ]
  },
  {
   "cell_type": "markdown",
   "id": "8daff026",
   "metadata": {},
   "source": [
    "## Keras를 활용한 LSTM 모델 생성"
   ]
  },
  {
   "cell_type": "code",
   "execution_count": 20,
   "id": "5eca1653",
   "metadata": {
    "ExecuteTime": {
     "end_time": "2021-11-07T14:11:24.333253Z",
     "start_time": "2021-11-07T14:11:20.756279Z"
    }
   },
   "outputs": [],
   "source": [
    "from keras.models import Sequential\n",
    "from keras.layers import Dense\n",
    "from keras.callbacks import EarlyStopping, ModelCheckpoint\n",
    "from keras.layers import LSTM\n",
    "\n",
    "model = Sequential()\n",
    "model.add(LSTM(16, \n",
    "               input_shape=(train_feature.shape[1], train_feature.shape[2]), \n",
    "               activation='relu', \n",
    "               return_sequences=False)\n",
    "          )\n",
    "model.add(Dense(1))"
   ]
  },
  {
   "cell_type": "code",
   "execution_count": 26,
   "id": "6e931ac1",
   "metadata": {
    "ExecuteTime": {
     "end_time": "2021-11-07T14:28:21.981969Z",
     "start_time": "2021-11-07T14:28:21.961719Z"
    }
   },
   "outputs": [
    {
     "data": {
      "text/plain": [
       "(5780, 20, 4)"
      ]
     },
     "execution_count": 26,
     "metadata": {},
     "output_type": "execute_result"
    }
   ],
   "source": [
    "train_feature.shape"
   ]
  },
  {
   "cell_type": "code",
   "execution_count": 23,
   "id": "8ba73e19",
   "metadata": {
    "ExecuteTime": {
     "end_time": "2021-11-07T14:11:43.114853Z",
     "start_time": "2021-11-07T14:11:43.102705Z"
    }
   },
   "outputs": [
    {
     "data": {
      "text/plain": [
       "4"
      ]
     },
     "execution_count": 23,
     "metadata": {},
     "output_type": "execute_result"
    }
   ],
   "source": [
    "train_feature.shape[2]"
   ]
  },
  {
   "cell_type": "code",
   "execution_count": 27,
   "id": "cced173d",
   "metadata": {
    "ExecuteTime": {
     "end_time": "2021-11-07T14:28:27.339169Z",
     "start_time": "2021-11-07T14:28:27.324137Z"
    }
   },
   "outputs": [],
   "source": [
    "# earlystopping은 10번 epoch통안 val_loss 개선이 없다면 학습을 멈춘다,\n",
    "earlystopping = EarlyStopping(monitor='val_loss', patience=10)\n",
    "# val_loss 기준 체크포인터도 생성합니다.\n",
    "filename = os.path.join('tmp', 'ckeckpointer.ckpt')\n",
    "checkpoint = ModelCheckpoint(filename, \n",
    "                             save_weights_only=True, \n",
    "                             save_best_only=True, \n",
    "                             monitor='val_loss', \n",
    "                             verbose=1)"
   ]
  },
  {
   "cell_type": "markdown",
   "id": "a2061534",
   "metadata": {},
   "source": [
    "### 모델 학습"
   ]
  },
  {
   "cell_type": "code",
   "execution_count": 28,
   "id": "33d814f8",
   "metadata": {
    "ExecuteTime": {
     "end_time": "2021-11-07T14:30:10.624674Z",
     "start_time": "2021-11-07T14:28:30.463396Z"
    },
    "scrolled": true
   },
   "outputs": [
    {
     "name": "stdout",
     "output_type": "stream",
     "text": [
      "Epoch 1/200\n",
      "289/289 [==============================] - 19s 7ms/step - loss: 0.0457 - val_loss: 3.2217e-04\n",
      "\n",
      "Epoch 00001: val_loss improved from inf to 0.00032, saving model to tmp\\ckeckpointer.ckpt\n",
      "Epoch 2/200\n",
      "289/289 [==============================] - 1s 3ms/step - loss: 2.9016e-04 - val_loss: 2.8856e-04\n",
      "\n",
      "Epoch 00002: val_loss improved from 0.00032 to 0.00029, saving model to tmp\\ckeckpointer.ckpt\n",
      "Epoch 3/200\n",
      "289/289 [==============================] - 1s 4ms/step - loss: 2.7921e-04 - val_loss: 2.8067e-04\n",
      "\n",
      "Epoch 00003: val_loss improved from 0.00029 to 0.00028, saving model to tmp\\ckeckpointer.ckpt\n",
      "Epoch 4/200\n",
      "289/289 [==============================] - 1s 3ms/step - loss: 2.4070e-04 - val_loss: 2.7231e-04\n",
      "\n",
      "Epoch 00004: val_loss improved from 0.00028 to 0.00027, saving model to tmp\\ckeckpointer.ckpt\n",
      "Epoch 5/200\n",
      "289/289 [==============================] - 1s 3ms/step - loss: 2.4538e-04 - val_loss: 2.5427e-04\n",
      "\n",
      "Epoch 00005: val_loss improved from 0.00027 to 0.00025, saving model to tmp\\ckeckpointer.ckpt\n",
      "Epoch 6/200\n",
      "289/289 [==============================] - 1s 4ms/step - loss: 2.2296e-04 - val_loss: 2.5616e-04\n",
      "\n",
      "Epoch 00006: val_loss did not improve from 0.00025\n",
      "Epoch 7/200\n",
      "289/289 [==============================] - 1s 4ms/step - loss: 2.2068e-04 - val_loss: 2.3990e-04\n",
      "\n",
      "Epoch 00007: val_loss improved from 0.00025 to 0.00024, saving model to tmp\\ckeckpointer.ckpt\n",
      "Epoch 8/200\n",
      "289/289 [==============================] - 1s 3ms/step - loss: 2.2021e-04 - val_loss: 2.2983e-04\n",
      "\n",
      "Epoch 00008: val_loss improved from 0.00024 to 0.00023, saving model to tmp\\ckeckpointer.ckpt\n",
      "Epoch 9/200\n",
      "289/289 [==============================] - 1s 4ms/step - loss: 2.1977e-04 - val_loss: 2.3494e-04\n",
      "\n",
      "Epoch 00009: val_loss did not improve from 0.00023\n",
      "Epoch 10/200\n",
      "289/289 [==============================] - 1s 3ms/step - loss: 2.0518e-04 - val_loss: 2.2001e-04\n",
      "\n",
      "Epoch 00010: val_loss improved from 0.00023 to 0.00022, saving model to tmp\\ckeckpointer.ckpt\n",
      "Epoch 11/200\n",
      "289/289 [==============================] - 1s 3ms/step - loss: 1.9379e-04 - val_loss: 2.4709e-04\n",
      "\n",
      "Epoch 00011: val_loss did not improve from 0.00022\n",
      "Epoch 12/200\n",
      "289/289 [==============================] - 1s 3ms/step - loss: 1.9839e-04 - val_loss: 2.0784e-04\n",
      "\n",
      "Epoch 00012: val_loss improved from 0.00022 to 0.00021, saving model to tmp\\ckeckpointer.ckpt\n",
      "Epoch 13/200\n",
      "289/289 [==============================] - 1s 3ms/step - loss: 1.8595e-04 - val_loss: 2.1863e-04\n",
      "\n",
      "Epoch 00013: val_loss did not improve from 0.00021\n",
      "Epoch 14/200\n",
      "289/289 [==============================] - 1s 3ms/step - loss: 1.9100e-04 - val_loss: 1.9914e-04\n",
      "\n",
      "Epoch 00014: val_loss improved from 0.00021 to 0.00020, saving model to tmp\\ckeckpointer.ckpt\n",
      "Epoch 15/200\n",
      "289/289 [==============================] - 1s 4ms/step - loss: 1.8283e-04 - val_loss: 2.3078e-04\n",
      "\n",
      "Epoch 00015: val_loss did not improve from 0.00020\n",
      "Epoch 16/200\n",
      "289/289 [==============================] - 1s 3ms/step - loss: 1.9150e-04 - val_loss: 2.6446e-04\n",
      "\n",
      "Epoch 00016: val_loss did not improve from 0.00020\n",
      "Epoch 17/200\n",
      "289/289 [==============================] - 1s 3ms/step - loss: 1.7702e-04 - val_loss: 2.0170e-04\n",
      "\n",
      "Epoch 00017: val_loss did not improve from 0.00020\n",
      "Epoch 18/200\n",
      "289/289 [==============================] - 1s 3ms/step - loss: 1.7728e-04 - val_loss: 1.8894e-04\n",
      "\n",
      "Epoch 00018: val_loss improved from 0.00020 to 0.00019, saving model to tmp\\ckeckpointer.ckpt\n",
      "Epoch 19/200\n",
      "289/289 [==============================] - 1s 3ms/step - loss: 1.8568e-04 - val_loss: 1.8557e-04\n",
      "\n",
      "Epoch 00019: val_loss improved from 0.00019 to 0.00019, saving model to tmp\\ckeckpointer.ckpt\n",
      "Epoch 20/200\n",
      "289/289 [==============================] - 1s 3ms/step - loss: 1.8022e-04 - val_loss: 2.1399e-04\n",
      "\n",
      "Epoch 00020: val_loss did not improve from 0.00019\n",
      "Epoch 21/200\n",
      "289/289 [==============================] - 1s 4ms/step - loss: 1.7372e-04 - val_loss: 1.8190e-04\n",
      "\n",
      "Epoch 00021: val_loss improved from 0.00019 to 0.00018, saving model to tmp\\ckeckpointer.ckpt\n",
      "Epoch 22/200\n",
      "289/289 [==============================] - 1s 3ms/step - loss: 1.6816e-04 - val_loss: 1.8323e-04\n",
      "\n",
      "Epoch 00022: val_loss did not improve from 0.00018\n",
      "Epoch 23/200\n",
      "289/289 [==============================] - 1s 3ms/step - loss: 1.7301e-04 - val_loss: 1.9430e-04\n",
      "\n",
      "Epoch 00023: val_loss did not improve from 0.00018\n",
      "Epoch 24/200\n",
      "289/289 [==============================] - 1s 3ms/step - loss: 1.6222e-04 - val_loss: 1.6878e-04\n",
      "\n",
      "Epoch 00024: val_loss improved from 0.00018 to 0.00017, saving model to tmp\\ckeckpointer.ckpt\n",
      "Epoch 25/200\n",
      "289/289 [==============================] - 1s 3ms/step - loss: 1.6902e-04 - val_loss: 1.9120e-04\n",
      "\n",
      "Epoch 00025: val_loss did not improve from 0.00017\n",
      "Epoch 26/200\n",
      "289/289 [==============================] - 1s 3ms/step - loss: 1.5988e-04 - val_loss: 1.8070e-04\n",
      "\n",
      "Epoch 00026: val_loss did not improve from 0.00017\n",
      "Epoch 27/200\n",
      "289/289 [==============================] - 1s 4ms/step - loss: 1.6075e-04 - val_loss: 1.8213e-04\n",
      "\n",
      "Epoch 00027: val_loss did not improve from 0.00017\n",
      "Epoch 28/200\n",
      "289/289 [==============================] - 1s 5ms/step - loss: 1.5486e-04 - val_loss: 1.6590e-04\n",
      "\n",
      "Epoch 00028: val_loss improved from 0.00017 to 0.00017, saving model to tmp\\ckeckpointer.ckpt\n",
      "Epoch 29/200\n",
      "289/289 [==============================] - 1s 5ms/step - loss: 1.5887e-04 - val_loss: 1.7628e-04\n",
      "\n",
      "Epoch 00029: val_loss did not improve from 0.00017\n",
      "Epoch 30/200\n",
      "289/289 [==============================] - 1s 5ms/step - loss: 1.5231e-04 - val_loss: 1.6124e-04\n",
      "\n",
      "Epoch 00030: val_loss improved from 0.00017 to 0.00016, saving model to tmp\\ckeckpointer.ckpt\n",
      "Epoch 31/200\n",
      "289/289 [==============================] - 1s 5ms/step - loss: 1.7316e-04 - val_loss: 1.6644e-04\n",
      "\n",
      "Epoch 00031: val_loss did not improve from 0.00016\n",
      "Epoch 32/200\n",
      "289/289 [==============================] - 1s 4ms/step - loss: 1.4855e-04 - val_loss: 1.8572e-04\n",
      "\n",
      "Epoch 00032: val_loss did not improve from 0.00016\n",
      "Epoch 33/200\n",
      "289/289 [==============================] - 1s 4ms/step - loss: 1.5642e-04 - val_loss: 1.6355e-04\n",
      "\n",
      "Epoch 00033: val_loss did not improve from 0.00016\n",
      "Epoch 34/200\n",
      "289/289 [==============================] - 1s 5ms/step - loss: 1.5620e-04 - val_loss: 1.8907e-04\n",
      "\n",
      "Epoch 00034: val_loss did not improve from 0.00016\n",
      "Epoch 35/200\n",
      "289/289 [==============================] - 1s 5ms/step - loss: 1.5651e-04 - val_loss: 1.8139e-04\n",
      "\n",
      "Epoch 00035: val_loss did not improve from 0.00016\n",
      "Epoch 36/200\n",
      "289/289 [==============================] - 2s 5ms/step - loss: 1.4703e-04 - val_loss: 1.5700e-04\n",
      "\n",
      "Epoch 00036: val_loss improved from 0.00016 to 0.00016, saving model to tmp\\ckeckpointer.ckpt\n",
      "Epoch 37/200\n",
      "289/289 [==============================] - 1s 4ms/step - loss: 1.5642e-04 - val_loss: 1.7089e-04\n",
      "\n",
      "Epoch 00037: val_loss did not improve from 0.00016\n",
      "Epoch 38/200\n",
      "289/289 [==============================] - 1s 5ms/step - loss: 1.4979e-04 - val_loss: 1.6210e-04\n",
      "\n",
      "Epoch 00038: val_loss did not improve from 0.00016\n",
      "Epoch 39/200\n",
      "289/289 [==============================] - 1s 4ms/step - loss: 1.5839e-04 - val_loss: 1.9429e-04\n",
      "\n",
      "Epoch 00039: val_loss did not improve from 0.00016\n",
      "Epoch 40/200\n",
      "289/289 [==============================] - 1s 4ms/step - loss: 1.6378e-04 - val_loss: 1.7497e-04\n",
      "\n",
      "Epoch 00040: val_loss did not improve from 0.00016\n",
      "Epoch 41/200\n",
      "289/289 [==============================] - 2s 6ms/step - loss: 1.5195e-04 - val_loss: 1.5714e-04\n",
      "\n",
      "Epoch 00041: val_loss did not improve from 0.00016\n",
      "Epoch 42/200\n",
      "289/289 [==============================] - 1s 4ms/step - loss: 1.6655e-04 - val_loss: 2.2233e-04\n",
      "\n",
      "Epoch 00042: val_loss did not improve from 0.00016\n",
      "Epoch 43/200\n",
      "289/289 [==============================] - 1s 4ms/step - loss: 1.4374e-04 - val_loss: 1.5186e-04\n",
      "\n",
      "Epoch 00043: val_loss improved from 0.00016 to 0.00015, saving model to tmp\\ckeckpointer.ckpt\n",
      "Epoch 44/200\n",
      "289/289 [==============================] - 1s 5ms/step - loss: 1.3389e-04 - val_loss: 1.8245e-04\n",
      "\n",
      "Epoch 00044: val_loss did not improve from 0.00015\n",
      "Epoch 45/200\n",
      "289/289 [==============================] - 2s 5ms/step - loss: 1.4661e-04 - val_loss: 1.5206e-04\n",
      "\n",
      "Epoch 00045: val_loss did not improve from 0.00015\n",
      "Epoch 46/200\n",
      "289/289 [==============================] - 1s 5ms/step - loss: 1.5461e-04 - val_loss: 1.5784e-04\n",
      "\n",
      "Epoch 00046: val_loss did not improve from 0.00015\n",
      "Epoch 47/200\n",
      "289/289 [==============================] - 1s 5ms/step - loss: 1.4366e-04 - val_loss: 1.4914e-04\n",
      "\n",
      "Epoch 00047: val_loss improved from 0.00015 to 0.00015, saving model to tmp\\ckeckpointer.ckpt\n",
      "Epoch 48/200\n",
      "289/289 [==============================] - 1s 4ms/step - loss: 1.4167e-04 - val_loss: 1.8458e-04\n",
      "\n",
      "Epoch 00048: val_loss did not improve from 0.00015\n",
      "Epoch 49/200\n",
      "289/289 [==============================] - 1s 5ms/step - loss: 1.5562e-04 - val_loss: 1.5588e-04\n",
      "\n",
      "Epoch 00049: val_loss did not improve from 0.00015\n",
      "Epoch 50/200\n",
      "289/289 [==============================] - 2s 6ms/step - loss: 1.4729e-04 - val_loss: 1.6807e-04\n",
      "\n",
      "Epoch 00050: val_loss did not improve from 0.00015\n",
      "Epoch 51/200\n",
      "289/289 [==============================] - 1s 4ms/step - loss: 1.5146e-04 - val_loss: 1.5703e-04\n",
      "\n",
      "Epoch 00051: val_loss did not improve from 0.00015\n",
      "Epoch 52/200\n",
      "289/289 [==============================] - 1s 4ms/step - loss: 1.4309e-04 - val_loss: 1.5983e-04\n",
      "\n",
      "Epoch 00052: val_loss did not improve from 0.00015\n",
      "Epoch 53/200\n",
      "289/289 [==============================] - 1s 4ms/step - loss: 1.4079e-04 - val_loss: 1.6721e-04\n",
      "\n",
      "Epoch 00053: val_loss did not improve from 0.00015\n",
      "Epoch 54/200\n",
      "289/289 [==============================] - 1s 4ms/step - loss: 1.5863e-04 - val_loss: 1.4836e-04\n",
      "\n",
      "Epoch 00054: val_loss improved from 0.00015 to 0.00015, saving model to tmp\\ckeckpointer.ckpt\n",
      "Epoch 55/200\n",
      "289/289 [==============================] - 2s 5ms/step - loss: 1.3696e-04 - val_loss: 1.5180e-04\n",
      "\n",
      "Epoch 00055: val_loss did not improve from 0.00015\n",
      "Epoch 56/200\n",
      "289/289 [==============================] - 1s 4ms/step - loss: 1.5047e-04 - val_loss: 2.1179e-04\n",
      "\n",
      "Epoch 00056: val_loss did not improve from 0.00015\n",
      "Epoch 57/200\n",
      "289/289 [==============================] - 1s 4ms/step - loss: 1.5008e-04 - val_loss: 1.4781e-04\n",
      "\n",
      "Epoch 00057: val_loss improved from 0.00015 to 0.00015, saving model to tmp\\ckeckpointer.ckpt\n",
      "Epoch 58/200\n",
      "289/289 [==============================] - 1s 4ms/step - loss: 1.5025e-04 - val_loss: 1.5203e-04\n",
      "\n",
      "Epoch 00058: val_loss did not improve from 0.00015\n",
      "Epoch 59/200\n",
      "289/289 [==============================] - 1s 4ms/step - loss: 1.4689e-04 - val_loss: 1.6696e-04\n",
      "\n",
      "Epoch 00059: val_loss did not improve from 0.00015\n",
      "Epoch 60/200\n",
      "289/289 [==============================] - 2s 6ms/step - loss: 1.6010e-04 - val_loss: 1.4926e-04\n",
      "\n",
      "Epoch 00060: val_loss did not improve from 0.00015\n",
      "Epoch 61/200\n",
      "289/289 [==============================] - 1s 5ms/step - loss: 1.5038e-04 - val_loss: 1.5029e-04\n",
      "\n",
      "Epoch 00061: val_loss did not improve from 0.00015\n",
      "Epoch 62/200\n",
      "289/289 [==============================] - 1s 4ms/step - loss: 1.4508e-04 - val_loss: 1.5145e-04\n",
      "\n",
      "Epoch 00062: val_loss did not improve from 0.00015\n",
      "Epoch 63/200\n",
      "289/289 [==============================] - 1s 4ms/step - loss: 1.4413e-04 - val_loss: 1.5027e-04\n",
      "\n",
      "Epoch 00063: val_loss did not improve from 0.00015\n",
      "Epoch 64/200\n",
      "289/289 [==============================] - 1s 4ms/step - loss: 1.3548e-04 - val_loss: 2.2142e-04\n",
      "\n",
      "Epoch 00064: val_loss did not improve from 0.00015\n",
      "Epoch 65/200\n",
      "289/289 [==============================] - 2s 7ms/step - loss: 1.4681e-04 - val_loss: 1.4835e-04\n",
      "\n",
      "Epoch 00065: val_loss did not improve from 0.00015\n",
      "Epoch 66/200\n",
      "289/289 [==============================] - 1s 4ms/step - loss: 1.3721e-04 - val_loss: 1.5800e-04\n",
      "\n",
      "Epoch 00066: val_loss did not improve from 0.00015\n",
      "Epoch 67/200\n",
      "289/289 [==============================] - 1s 5ms/step - loss: 1.3951e-04 - val_loss: 1.4787e-04\n",
      "\n",
      "Epoch 00067: val_loss did not improve from 0.00015\n"
     ]
    }
   ],
   "source": [
    "model.compile(loss='mean_squared_error', optimizer='adam')\n",
    "\n",
    "history = model.fit(x_train, y_train, \n",
    "                    epochs=200, \n",
    "                    batch_size=16,\n",
    "                    validation_data=(x_valid, y_valid), \n",
    "                    callbacks=[earlystopping, checkpoint])"
   ]
  },
  {
   "cell_type": "code",
   "execution_count": 29,
   "id": "105f2fa8",
   "metadata": {
    "ExecuteTime": {
     "end_time": "2021-11-07T14:30:11.623543Z",
     "start_time": "2021-11-07T14:30:10.786677Z"
    },
    "scrolled": true
   },
   "outputs": [],
   "source": [
    "# weight 로딩\n",
    "model.load_weights(filename)\n",
    "\n",
    "# 예측\n",
    "pred = model.predict(test_feature)"
   ]
  },
  {
   "cell_type": "markdown",
   "id": "f4429a32",
   "metadata": {},
   "source": [
    "## 실제데이터와 예측한 데이터 시각화"
   ]
  },
  {
   "cell_type": "code",
   "execution_count": 30,
   "id": "72cb9572",
   "metadata": {
    "ExecuteTime": {
     "end_time": "2021-11-07T14:30:11.955545Z",
     "start_time": "2021-11-07T14:30:11.766544Z"
    }
   },
   "outputs": [
    {
     "data": {
      "image/png": "[encoded data removed]",
      "text/plain": [
       "<Figure size 864x648 with 1 Axes>"
      ]
     },
     "metadata": {
      "needs_background": "light"
     },
     "output_type": "display_data"
    }
   ],
   "source": [
    "plt.figure(figsize=(12, 9))\n",
    "plt.plot(test_label, label='actual')\n",
    "plt.plot(pred, label='prediction')\n",
    "plt.legend()\n",
    "plt.show()"
   ]
  },
  {
   "cell_type": "code",
   "execution_count": 33,
   "id": "6da5b839",
   "metadata": {
    "ExecuteTime": {
     "end_time": "2021-11-07T14:34:06.741592Z",
     "start_time": "2021-11-07T14:34:06.527632Z"
    }
   },
   "outputs": [
    {
     "name": "stdout",
     "output_type": "stream",
     "text": [
      "73/73 [==============================] - 0s 2ms/step - loss: 1.4781e-04\n"
     ]
    },
    {
     "data": {
      "text/plain": [
       "0.0001478117919759825"
      ]
     },
     "execution_count": 33,
     "metadata": {},
     "output_type": "execute_result"
    }
   ],
   "source": [
    "model.evaluate(x_valid,y_valid, batch_size=16)"
   ]
  }
 ],
 "metadata": {
  "hide_input": false,
  "kernelspec": {
   "display_name": "Python 3",
   "language": "python",
   "name": "python3"
  },
  "language_info": {
   "codemirror_mode": {
    "name": "ipython",
    "version": 3
   },
   "file_extension": ".py",
   "mimetype": "text/x-python",
   "name": "python",
   "nbconvert_exporter": "python",
   "pygments_lexer": "ipython3",
   "version": "3.8.8"
  },
  "toc": {
   "base_numbering": 1,
   "nav_menu": {},
   "number_sections": true,
   "sideBar": true,
   "skip_h1_title": false,
   "title_cell": "Table of Contents",
   "title_sidebar": "Contents",
   "toc_cell": false,
   "toc_position": {},
   "toc_section_display": true,
   "toc_window_display": false
  },
  "varInspector": {
   "cols": {
    "lenName": 16,
    "lenType": 16,
    "lenVar": 40
   },
   "kernels_config": {
    "python": {
     "delete_cmd_postfix": "",
     "delete_cmd_prefix": "del ",
     "library": "var_list.py",
     "varRefreshCmd": "print(var_dic_list())"
    },
    "r": {
     "delete_cmd_postfix": ") ",
     "delete_cmd_prefix": "rm(",
     "library": "var_list.r",
     "varRefreshCmd": "cat(var_dic_list()) "
    }
   },
   "types_to_exclude": [
    "module",
    "function",
    "builtin_function_or_method",
    "instance",
    "_Feature"
   ],
   "window_display": false
  }
 },
 "nbformat": 4,
 "nbformat_minor": 5
}
